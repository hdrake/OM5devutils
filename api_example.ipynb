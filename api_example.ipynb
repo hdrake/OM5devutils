{
 "cells": [
  {
   "cell_type": "code",
   "execution_count": 3,
   "id": "e771ba5a-9dba-454f-8492-2ef1301b3e97",
   "metadata": {},
   "outputs": [],
   "source": [
    "import doralite\n",
    "import gfdl_utils.core as gu"
   ]
  },
  {
   "cell_type": "markdown",
   "id": "3a450a99-59b3-4b39-aea2-3c7a62c2685d",
   "metadata": {},
   "source": [
    "### Extracting experiment metadata from DORA\n",
    "\n",
    "We use the `doralite.search` function."
   ]
  },
  {
   "cell_type": "code",
   "execution_count": 4,
   "id": "56ef68af-c3f9-44b4-bbb7-cad2cfd5ef93",
   "metadata": {},
   "outputs": [
    {
     "data": {
      "text/plain": [
       "{2078: '/archive/Brandon.Reichl/fre_om5/FMS2023.01_om5_20230720/om5_b00_cycle1/gfdl.ncrc4-intel22-prod/pp/',\n",
       " 2079: '/archive/Brandon.Reichl/fre_om5/FMS2023.01_om5_20230720/om5_b00_cycle1/gfdl.ncrc5-intel23-prod/pp/',\n",
       " 2080: '/archive/Brandon.Reichl/fre_om5/FMS2023.01_om5_20230724/om5_b00_nonBouss/gfdl.ncrc4-intel22-prod/pp/',\n",
       " 2089: '/archive/Brandon.Reichl/fre_om5/FMS2023.01_om5_20230720/om5_b00_coorconfigALE/gfdl.ncrc5-intel23-prod/pp/',\n",
       " 2090: '/archive/Brandon.Reichl/fre_om5/FMS2023.01_om5_20230720/om5_b00_BBL_VS_KV0_MStrC1p25_minThk_Bodner0p03/gfdl.ncrc5-intel23-prod/pp/',\n",
       " 2091: '/archive/Brandon.Reichl/fre_om5/FMS2023.01_om5_20230720/om5_b00_ePBLbisect/gfdl.ncrc5-intel23-prod/pp/',\n",
       " 2092: '/archive/Brandon.Reichl/fre_om5/FMS2023.01_om5_20230720/om5_b00_nonSymmetric/gfdl.ncrc5-intel23-prod/pp/',\n",
       " 2106: '/archive/Olga.Sergienko/fre_om5/FMS2023.01_om5_20230720/om5_b00_BBL_VS_KV0_MStrC1p25_minThk_Bodner0p03/gfdl.ncrc4-intel22-prod/pp/',\n",
       " 2107: '/archive/Brandon.Reichl/fre_om5/FMS2023.01_om5_20230720/om5_b00_cycle1/gfdl.ncrc4-intel22-repro/pp/',\n",
       " 2108: '/archive/Brandon.Reichl/fre_om5/FMS2023.01_om5_20230724/om5_b00_nonBouss/gfdl.ncrc5-intel23-prod/pp/',\n",
       " 2110: '/archive/Brandon.Reichl/fre_om5/FMS2023.01_om5_20230720/om5_b00_minThck0p001001_cycle1/gfdl.ncrc4-intel22-prod/pp/',\n",
       " 2111: '/archive/John.Krasting/fre_om5/FMS2023.01_om5_20230720/om5_b00_GEBCO2020_cycle1/gfdl.ncrc5-intel23-prod/pp/',\n",
       " 2126: '/archive/Olga.Sergienko/fre_om5/FMS2023.01_om5_20230720/om5_b00_split1/gfdl.ncrc5-intel23-prod/pp/',\n",
       " 2127: '/archive/Olga.Sergienko/fre_om5/FMS2023.01_om5_20230720/om5_b00_split2/gfdl.ncrc5-intel23-prod/pp/',\n",
       " 2128: '/archive/Olga.Sergienko/fre_om5/FMS2023.01_om5_20230720/om5_b00_split3/gfdl.ncrc5-intel23-prod/pp/',\n",
       " 2129: '/archive/Olga.Sergienko/fre_om5/FMS2023.01_om5_20230720/om5_b00_split4/gfdl.ncrc5-intel23-prod/pp/',\n",
       " 2130: '/archive/Brandon.Reichl/fre_om5/FMS2023.01_om5_20230720/om5_b00_split1/gfdl.ncrc4-intel22-prod/pp/',\n",
       " 2131: '/archive/Brandon.Reichl/fre_om5/FMS2023.01_om5_20230720/om5_b00_split2/gfdl.ncrc4-intel22-prod/pp/',\n",
       " 2132: '/archive/Brandon.Reichl/fre_om5/FMS2023.01_om5_20230720/om5_b00_split3/gfdl.ncrc4-intel22-prod/pp/',\n",
       " 2133: '/archive/Brandon.Reichl/fre_om5/FMS2023.01_om5_20230720/om5_b00_split4/gfdl.ncrc4-intel22-prod/pp/',\n",
       " 2134: '/archive/Olga.Sergienko/fre_om5/FMS2023.01_om5_20230720/om5_b00_dtcpld1800/gfdl.ncrc5-intel23-prod/pp/',\n",
       " 2135: '/archive/Brandon.Reichl/fre_om5/FMS2023.01_om5_20230720/om5_b00_dtcpld1800/gfdl.ncrc4-intel22-prod/pp/',\n",
       " 2139: '/archive/John.Krasting/fre_om5/FMS2023.01_om5_20230720/om5_b00_GEBCO2020_om4h2_cycle1/gfdl.ncrc5-intel23-prod/pp/',\n",
       " 2168: '/archive/Brandon.Reichl/fre_om5/FMS2023.01_om5_20230720/om5_b00_dtcpld1800_BBL/gfdl.ncrc4-intel22-prod/pp/',\n",
       " 2169: '/archive/Brandon.Reichl/fre_om5/FMS2023.01_om5_20230720/om5_b00_dtcpld1800_BBL/gfdl.ncrc5-intel23-prod/pp/',\n",
       " 2175: '/archive/Brandon.Reichl/fre_om5/FMS2023.01_om5_20230720/om5_b00_dtcpld1800_BBLeff0/gfdl.ncrc5-intel23-prod/pp/',\n",
       " 2179: '/archive/John.Krasting/fre_om5/FMS2023.01_om5_20230720/om5_b00_GEBCO2020_nnztools_cycle1/gfdl.ncrc5-intel23-prod/pp/',\n",
       " 2180: '/archive/Brandon.Reichl/fre_om5/FMS2023.01_om5_20230927/om5_b02_cycle1/gfdl.ncrc4-intel22-prod/pp/',\n",
       " 2181: '/archive/Brandon.Reichl/fre_om5/FMS2023.01_om5_20230927/om5_b02_cycle1/gfdl.ncrc5-intel23-prod/pp/',\n",
       " 2183: '/archive/Mitchell.Bushuk/fre_om5/FMS2023.01_om5_20230926/om5_b01_kappah2fac1p26/gfdl.ncrc5-intel23-prod/pp/',\n",
       " 2184: '/archive/Mitchell.Bushuk/fre_om5/FMS2023.01_om5_20230926/om5_b01_dtrheo3/gfdl.ncrc5-intel23-prod/pp/',\n",
       " 2185: '/archive/Mitchell.Bushuk/fre_om5/FMS2023.01_om5_20230927/om5_b02_kappah2fac1p26/gfdl.ncrc5-intel23-prod/pp/',\n",
       " 2194: '/archive/Jacob.Steinberg/fre_om5/FMS2023.01_om5_20230927/om5_b02_GEBCO2020_nnztools_cycle1/gfdl.ncrc5-intel23-prod/pp/',\n",
       " 2196: '/archive/Brandon.Reichl/fre_om5/FMS2023.01_om5_20230927/om5_b02_minthick1em3/gfdl.ncrc4-intel22-prod/pp/',\n",
       " 2197: '/archive/Brandon.Reichl/fre_om5/FMS2023.01_om5_20230927/om5_b02_minthick1em3/gfdl.ncrc5-intel23-prod/pp/'}"
      ]
     },
     "execution_count": 4,
     "metadata": {},
     "output_type": "execute_result"
    }
   ],
   "source": [
    "doralite.search(\"/om5_b\")"
   ]
  },
  {
   "cell_type": "markdown",
   "id": "d5e87f99-1da9-4784-8e99-919daa05bd72",
   "metadata": {},
   "source": [
    "We can retrieve the DORA metadata for a particular experiment we are interested in."
   ]
  },
  {
   "cell_type": "code",
   "execution_count": 5,
   "id": "be4d69e1-d926-4dae-a253-6a79be197df4",
   "metadata": {},
   "outputs": [
    {
     "data": {
      "text/plain": [
       "{'displayName': None,\n",
       " 'expLabels': None,\n",
       " 'expLength': None,\n",
       " 'expMIP': None,\n",
       " 'expName': 'om5_b00_nonBouss_c5',\n",
       " 'expType': None,\n",
       " 'expYear': None,\n",
       " 'gfdlHistoryYear': None,\n",
       " 'id': 2108,\n",
       " 'jobID': None,\n",
       " 'master_id': '2108',\n",
       " 'modelType': 'OM5',\n",
       " 'owner': 'Brandon.Reichl',\n",
       " 'pathAnalysis': '/nbhome/Brandon.Reichl/fre_om5/FMS2023.01_om5_20230724/om5_b00_nonBouss/',\n",
       " 'pathDB': '/home/Brandon.Reichl/fre_om5/FMS2023.01_om5_20230724/om5_b00_nonBouss/gfdl.ncrc5-intel23-prod/db/',\n",
       " 'pathLog': None,\n",
       " 'pathPP': '/archive/Brandon.Reichl/fre_om5/FMS2023.01_om5_20230724/om5_b00_nonBouss/gfdl.ncrc5-intel23-prod/pp/',\n",
       " 'pathScript': '/lustre/f2/dev/Brandon.Reichl/fre_om5/FMS2023.01_om5_20230724/om5_b00_nonBouss/ncrc5.intel23-prod/scripts/om5_b00_nonBouss/',\n",
       " 'pathXML': '/home/bgr/ncrc/OM5/om5-xml/om5_b00_nonBoussinesq.xml/',\n",
       " 'queue': None,\n",
       " 'refresh': None,\n",
       " 'requested_id': '2108',\n",
       " 'source': 'sql',\n",
       " 'status': None,\n",
       " 'urlCurator': None,\n",
       " 'userName': 'Brandon.Reichl',\n",
       " 'pathHistory': '/archive/Brandon.Reichl/fre_om5/FMS2023.01_om5_20230724/om5_b00_nonBouss/gfdl.ncrc5-intel23-prod/history/'}"
      ]
     },
     "execution_count": 5,
     "metadata": {},
     "output_type": "execute_result"
    }
   ],
   "source": [
    "doralite.dora_metadata(2108)"
   ]
  },
  {
   "cell_type": "markdown",
   "id": "dfbf5884-6ee8-43f6-8ddc-74accbc9b339",
   "metadata": {},
   "source": [
    "### Searching an odiv experiment for a variable, loading it, and plotting it \n",
    "\n",
    "Alternatively, we can use the `doralite.dora_metadata` function to extract metadata for an O-Div experiment."
   ]
  },
  {
   "cell_type": "code",
   "execution_count": 7,
   "id": "4c7d88cf-672f-4b0e-9095-019542b1e0d1",
   "metadata": {},
   "outputs": [
    {
     "data": {
      "text/plain": [
       "{'displayName': 'None',\n",
       " 'expLabels': 'None',\n",
       " 'expLength': None,\n",
       " 'expMIP': None,\n",
       " 'expName': 'om5_b00_dtcpld1800_BBL_c5',\n",
       " 'expType': 'None',\n",
       " 'expYear': None,\n",
       " 'gfdlHistoryYear': None,\n",
       " 'id': 2169,\n",
       " 'jobID': None,\n",
       " 'master_id': 2169,\n",
       " 'modelType': 'OM5',\n",
       " 'owner': 'Brandon.Reichl',\n",
       " 'pathAnalysis': '/nbhome/Brandon.Reichl/fre_om5/FMS2023.01_om5_20230720/om5_b00_dtcpld1800_BBL/',\n",
       " 'pathDB': '/home/Brandon.Reichl/fre_om5/FMS2023.01_om5_20230720/om5_b00_dtcpld1800_BBL/gfdl.ncrc5-intel23-prod/db/',\n",
       " 'pathLog': 'None/',\n",
       " 'pathPP': '/archive/Brandon.Reichl/fre_om5/FMS2023.01_om5_20230720/om5_b00_dtcpld1800_BBL/gfdl.ncrc5-intel23-prod/pp/',\n",
       " 'pathScript': '/lustre/f2/dev/Brandon.Reichl/fre_om5/FMS2023.01_om5_20230720/om5_b00_dtcpld1800_BBL/ncrc5.intel23-prod/scripts/om5_b00_dtcpld1800_BBL/',\n",
       " 'pathXML': '/home/bgr/ncrc/OM5/om5-xml/om5_b00_dtcpld1800_BBL.xml/',\n",
       " 'queue': None,\n",
       " 'refresh': None,\n",
       " 'requested_id': 'odiv-296',\n",
       " 'source': 'sql',\n",
       " 'status': None,\n",
       " 'urlCurator': 'None',\n",
       " 'userName': 'Brandon.Reichl',\n",
       " 'pathHistory': '/archive/Brandon.Reichl/fre_om5/FMS2023.01_om5_20230720/om5_b00_dtcpld1800_BBL/gfdl.ncrc5-intel23-prod/history/'}"
      ]
     },
     "execution_count": 7,
     "metadata": {},
     "output_type": "execute_result"
    }
   ],
   "source": [
    "exp = \"odiv-296\"\n",
    "doralite.dora_metadata(exp)"
   ]
  },
  {
   "cell_type": "markdown",
   "id": "67693146-1477-451e-bf4a-d6fd25d92774",
   "metadata": {},
   "source": [
    "We can extract specific metadata from this dictionary, like the path to the post-processed (`pp`) directory."
   ]
  },
  {
   "cell_type": "code",
   "execution_count": 8,
   "id": "e9c87ad5-d0ca-40e8-b356-eb01fef2f987",
   "metadata": {},
   "outputs": [
    {
     "data": {
      "text/plain": [
       "'/archive/Brandon.Reichl/fre_om5/FMS2023.01_om5_20230720/om5_b00_dtcpld1800_BBL/gfdl.ncrc5-intel23-prod/pp/'"
      ]
     },
     "execution_count": 8,
     "metadata": {},
     "output_type": "execute_result"
    }
   ],
   "source": [
    "pp = doralite.dora_metadata(exp)['pathPP']\n",
    "pp"
   ]
  },
  {
   "cell_type": "markdown",
   "id": "475eb3c1-b6dd-45ce-ac94-59c8e296ad4d",
   "metadata": {},
   "source": [
    "Next, we use the `gfdl_utils.core.find_variable` function to search this `pp` directory for a variable of interest and return a list of the `pp` sub-directories where it is found."
   ]
  },
  {
   "cell_type": "code",
   "execution_count": 9,
   "id": "20ee55ff-919a-4c31-8799-20a01911dfd0",
   "metadata": {},
   "outputs": [
    {
     "data": {
      "text/plain": [
       "['ocean_daily', 'ocean_monthly', 'ocean_daily_1x1deg', 'ocean_monthly_1x1deg']"
      ]
     },
     "execution_count": 9,
     "metadata": {},
     "output_type": "execute_result"
    }
   ],
   "source": [
    "ppnames = gu.find_variable(pp, 'tos')\n",
    "ppnames"
   ]
  },
  {
   "cell_type": "markdown",
   "id": "3413a664-8642-4fd3-91fa-f10aa514b110",
   "metadata": {},
   "source": [
    "We can get the rest of the `local` path name to the files with the `gfdl_utils.core.get_local` function, in this case selecting the highest resolution `ocean_daily` output."
   ]
  },
  {
   "cell_type": "code",
   "execution_count": 10,
   "id": "a1aadf89-e1aa-4494-8efd-b78cf4ec9df0",
   "metadata": {},
   "outputs": [
    {
     "data": {
      "text/plain": [
       "'daily/5yr'"
      ]
     },
     "execution_count": 10,
     "metadata": {},
     "output_type": "execute_result"
    }
   ],
   "source": [
    "ppname = ppnames[0]\n",
    "local = gu.get_local(pp, ppname, \"ts\")\n",
    "local"
   ]
  },
  {
   "cell_type": "markdown",
   "id": "9fd92b86-aec8-4582-bf9c-70e874bc2b9a",
   "metadata": {},
   "source": [
    "The `get_pathspp` and `get_pathstatic` functions will return the paths to the files of interest."
   ]
  },
  {
   "cell_type": "code",
   "execution_count": 11,
   "id": "a70c894d-88f1-4365-894d-3ccb01ab89e6",
   "metadata": {},
   "outputs": [
    {
     "data": {
      "text/plain": [
       "('/archive/Brandon.Reichl/fre_om5/FMS2023.01_om5_20230720/om5_b00_dtcpld1800_BBL/gfdl.ncrc5-intel23-prod/pp//ocean_daily/ts/daily/5yr/ocean_daily.*.*.nc',\n",
       " '/archive/Brandon.Reichl/fre_om5/FMS2023.01_om5_20230720/om5_b00_dtcpld1800_BBL/gfdl.ncrc5-intel23-prod/pp//ocean_daily/ocean_daily.static.nc')"
      ]
     },
     "execution_count": 11,
     "metadata": {},
     "output_type": "execute_result"
    }
   ],
   "source": [
    "path = gu.get_pathspp(pp, ppname, \"ts\", local, \"*\", \"*\")\n",
    "path_static = gu.get_pathstatic(pp, ppname)\n",
    "path, path_static"
   ]
  },
  {
   "cell_type": "markdown",
   "id": "8ee3fa58-f758-4142-9dfd-1d316ecb765e",
   "metadata": {},
   "source": [
    "Alternatively, we can pass the same set of arguments to `open_frompp` and `open_static` to directly load in the data of interest. We pass the `dmget=True` keyword argument to guarantee that the data is migrated to disc before loading it as an `xr.Dataset`."
   ]
  },
  {
   "cell_type": "code",
   "execution_count": 12,
   "id": "903c8d58-40af-4446-82ad-ec59f279f564",
   "metadata": {},
   "outputs": [
    {
     "name": "stdout",
     "output_type": "stream",
     "text": [
      "Issuing dmget command to migrate data to disk. Migration complete.\n"
     ]
    }
   ],
   "source": [
    "import xarray as xr\n",
    "ds = gu.open_frompp(pp, ppname, \"ts\", local, \"*2018*\", \"tos\", dmget=True)\n",
    "grid = gu.open_static(pp, ppname)"
   ]
  },
  {
   "cell_type": "code",
   "execution_count": null,
   "id": "aa364a85-8bd6-4894-adc1-e5f2410e5afe",
   "metadata": {},
   "outputs": [],
   "source": [
    "import matplotlib.pyplot as plt\n",
    "plt.pcolor(\n",
    "    grid['geolon_c'],\n",
    "    grid['geolat_c'],\n",
    "    ds['tos'].isel(time=0),\n",
    "    cmap=\"RdBu_r\"\n",
    ")\n",
    "plt.xlabel(\"longitude\")\n",
    "plt.ylabel(\"latitude\")\n",
    "plt.ylim(-80, 65);\n",
    "plt.colorbar(label=r\"surface temperature [$\\degree$C]\")"
   ]
  },
  {
   "cell_type": "code",
   "execution_count": null,
   "id": "2f8d79ca-053b-4a0e-85f8-ae9e8a9aa115",
   "metadata": {},
   "outputs": [],
   "source": []
  }
 ],
 "metadata": {
  "kernelspec": {
   "display_name": "Python 3 (ipykernel)",
   "language": "python",
   "name": "python3"
  },
  "language_info": {
   "codemirror_mode": {
    "name": "ipython",
    "version": 3
   },
   "file_extension": ".py",
   "mimetype": "text/x-python",
   "name": "python",
   "nbconvert_exporter": "python",
   "pygments_lexer": "ipython3",
   "version": "3.10.6"
  }
 },
 "nbformat": 4,
 "nbformat_minor": 5
}
